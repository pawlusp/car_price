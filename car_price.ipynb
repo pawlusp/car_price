{
 "cells": [
  {
   "cell_type": "code",
   "execution_count": 1,
   "id": "56567cad",
   "metadata": {},
   "outputs": [],
   "source": [
    "import pandas as pd \n",
    "import numpy as np\n",
    "from sklearn.preprocessing import OrdinalEncoder\n",
    "from sklearn.model_selection import train_test_split\n",
    "from sklearn.linear_model import LinearRegression\n",
    "import matplotlib.pyplot as plt"
   ]
  },
  {
   "cell_type": "code",
   "execution_count": 2,
   "id": "ebf469d3",
   "metadata": {},
   "outputs": [],
   "source": [
    "data = pd.read_csv('Car Price Analysis.csv')"
   ]
  },
  {
   "cell_type": "code",
   "execution_count": 3,
   "id": "caca1914",
   "metadata": {},
   "outputs": [
    {
     "data": {
      "text/html": [
       "<div>\n",
       "<style scoped>\n",
       "    .dataframe tbody tr th:only-of-type {\n",
       "        vertical-align: middle;\n",
       "    }\n",
       "\n",
       "    .dataframe tbody tr th {\n",
       "        vertical-align: top;\n",
       "    }\n",
       "\n",
       "    .dataframe thead th {\n",
       "        text-align: right;\n",
       "    }\n",
       "</style>\n",
       "<table border=\"1\" class=\"dataframe\">\n",
       "  <thead>\n",
       "    <tr style=\"text-align: right;\">\n",
       "      <th></th>\n",
       "      <th>carlength</th>\n",
       "      <th>carwidth</th>\n",
       "      <th>carheight</th>\n",
       "      <th>price</th>\n",
       "      <th>Affordable</th>\n",
       "    </tr>\n",
       "  </thead>\n",
       "  <tbody>\n",
       "    <tr>\n",
       "      <th>0</th>\n",
       "      <td>141.1</td>\n",
       "      <td>60.3</td>\n",
       "      <td>47.8</td>\n",
       "      <td>5151.0</td>\n",
       "      <td>YES</td>\n",
       "    </tr>\n",
       "    <tr>\n",
       "      <th>1</th>\n",
       "      <td>144.6</td>\n",
       "      <td>61.8</td>\n",
       "      <td>48.8</td>\n",
       "      <td>5195.0</td>\n",
       "      <td>YES</td>\n",
       "    </tr>\n",
       "    <tr>\n",
       "      <th>2</th>\n",
       "      <td>144.6</td>\n",
       "      <td>62.5</td>\n",
       "      <td>48.8</td>\n",
       "      <td>5389.0</td>\n",
       "      <td>YES</td>\n",
       "    </tr>\n",
       "    <tr>\n",
       "      <th>3</th>\n",
       "      <td>150.0</td>\n",
       "      <td>63.6</td>\n",
       "      <td>49.4</td>\n",
       "      <td>5399.0</td>\n",
       "      <td>YES</td>\n",
       "    </tr>\n",
       "    <tr>\n",
       "      <th>4</th>\n",
       "      <td>150.0</td>\n",
       "      <td>63.6</td>\n",
       "      <td>49.4</td>\n",
       "      <td>5499.0</td>\n",
       "      <td>YES</td>\n",
       "    </tr>\n",
       "  </tbody>\n",
       "</table>\n",
       "</div>"
      ],
      "text/plain": [
       "   carlength  carwidth  carheight   price Affordable\n",
       "0      141.1      60.3       47.8  5151.0        YES\n",
       "1      144.6      61.8       48.8  5195.0        YES\n",
       "2      144.6      62.5       48.8  5389.0        YES\n",
       "3      150.0      63.6       49.4  5399.0        YES\n",
       "4      150.0      63.6       49.4  5499.0        YES"
      ]
     },
     "execution_count": 3,
     "metadata": {},
     "output_type": "execute_result"
    }
   ],
   "source": [
    "data.head()"
   ]
  },
  {
   "cell_type": "code",
   "execution_count": 4,
   "id": "2b821907",
   "metadata": {},
   "outputs": [],
   "source": [
    "affordable = data[[\"Affordable\"]]"
   ]
  },
  {
   "cell_type": "code",
   "execution_count": 5,
   "id": "301c7d5f",
   "metadata": {},
   "outputs": [],
   "source": [
    "ordinal_encoder = OrdinalEncoder()"
   ]
  },
  {
   "cell_type": "code",
   "execution_count": 6,
   "id": "1c8a9562",
   "metadata": {},
   "outputs": [],
   "source": [
    "affordable_encoded = ordinal_encoder.fit_transform(affordable)"
   ]
  },
  {
   "cell_type": "code",
   "execution_count": 7,
   "id": "bd9b80a1",
   "metadata": {},
   "outputs": [],
   "source": [
    "data['Affordable'] = affordable_encoded"
   ]
  },
  {
   "cell_type": "code",
   "execution_count": 8,
   "id": "f77280bb",
   "metadata": {},
   "outputs": [
    {
     "data": {
      "text/html": [
       "<div>\n",
       "<style scoped>\n",
       "    .dataframe tbody tr th:only-of-type {\n",
       "        vertical-align: middle;\n",
       "    }\n",
       "\n",
       "    .dataframe tbody tr th {\n",
       "        vertical-align: top;\n",
       "    }\n",
       "\n",
       "    .dataframe thead th {\n",
       "        text-align: right;\n",
       "    }\n",
       "</style>\n",
       "<table border=\"1\" class=\"dataframe\">\n",
       "  <thead>\n",
       "    <tr style=\"text-align: right;\">\n",
       "      <th></th>\n",
       "      <th>carlength</th>\n",
       "      <th>carwidth</th>\n",
       "      <th>carheight</th>\n",
       "      <th>price</th>\n",
       "      <th>Affordable</th>\n",
       "    </tr>\n",
       "  </thead>\n",
       "  <tbody>\n",
       "    <tr>\n",
       "      <th>carlength</th>\n",
       "      <td>1.000000</td>\n",
       "      <td>0.970771</td>\n",
       "      <td>0.980747</td>\n",
       "      <td>0.917768</td>\n",
       "      <td>-0.791378</td>\n",
       "    </tr>\n",
       "    <tr>\n",
       "      <th>carwidth</th>\n",
       "      <td>0.970771</td>\n",
       "      <td>1.000000</td>\n",
       "      <td>0.953692</td>\n",
       "      <td>0.961643</td>\n",
       "      <td>-0.814488</td>\n",
       "    </tr>\n",
       "    <tr>\n",
       "      <th>carheight</th>\n",
       "      <td>0.980747</td>\n",
       "      <td>0.953692</td>\n",
       "      <td>1.000000</td>\n",
       "      <td>0.896603</td>\n",
       "      <td>-0.799775</td>\n",
       "    </tr>\n",
       "    <tr>\n",
       "      <th>price</th>\n",
       "      <td>0.917768</td>\n",
       "      <td>0.961643</td>\n",
       "      <td>0.896603</td>\n",
       "      <td>1.000000</td>\n",
       "      <td>-0.753420</td>\n",
       "    </tr>\n",
       "    <tr>\n",
       "      <th>Affordable</th>\n",
       "      <td>-0.791378</td>\n",
       "      <td>-0.814488</td>\n",
       "      <td>-0.799775</td>\n",
       "      <td>-0.753420</td>\n",
       "      <td>1.000000</td>\n",
       "    </tr>\n",
       "  </tbody>\n",
       "</table>\n",
       "</div>"
      ],
      "text/plain": [
       "            carlength  carwidth  carheight     price  Affordable\n",
       "carlength    1.000000  0.970771   0.980747  0.917768   -0.791378\n",
       "carwidth     0.970771  1.000000   0.953692  0.961643   -0.814488\n",
       "carheight    0.980747  0.953692   1.000000  0.896603   -0.799775\n",
       "price        0.917768  0.961643   0.896603  1.000000   -0.753420\n",
       "Affordable  -0.791378 -0.814488  -0.799775 -0.753420    1.000000"
      ]
     },
     "execution_count": 8,
     "metadata": {},
     "output_type": "execute_result"
    }
   ],
   "source": [
    "data.corr()"
   ]
  },
  {
   "cell_type": "code",
   "execution_count": 9,
   "id": "565ae4ea",
   "metadata": {},
   "outputs": [],
   "source": [
    "predict = 'price'"
   ]
  },
  {
   "cell_type": "code",
   "execution_count": 10,
   "id": "183bfcb9",
   "metadata": {},
   "outputs": [],
   "source": [
    "x = np.array(data.drop(['price','Affordable'],1))"
   ]
  },
  {
   "cell_type": "code",
   "execution_count": 11,
   "id": "0bfb773d",
   "metadata": {},
   "outputs": [],
   "source": [
    "y = np.array(data[predict])"
   ]
  },
  {
   "cell_type": "code",
   "execution_count": 12,
   "id": "073c3785",
   "metadata": {},
   "outputs": [],
   "source": [
    "x_train,x_test,y_train,y_test = train_test_split(x,y,test_size=0.2)"
   ]
  },
  {
   "cell_type": "code",
   "execution_count": 13,
   "id": "f6575a2f",
   "metadata": {},
   "outputs": [],
   "source": [
    "linear = LinearRegression()"
   ]
  },
  {
   "cell_type": "code",
   "execution_count": 14,
   "id": "c826e083",
   "metadata": {},
   "outputs": [
    {
     "data": {
      "text/plain": [
       "LinearRegression()"
      ]
     },
     "execution_count": 14,
     "metadata": {},
     "output_type": "execute_result"
    }
   ],
   "source": [
    "linear.fit(x_train,y_train)"
   ]
  },
  {
   "cell_type": "code",
   "execution_count": 15,
   "id": "ada0de50",
   "metadata": {},
   "outputs": [
    {
     "data": {
      "text/plain": [
       "0.9456661542384563"
      ]
     },
     "execution_count": 15,
     "metadata": {},
     "output_type": "execute_result"
    }
   ],
   "source": [
    "linear.score(x_test,y_test)"
   ]
  },
  {
   "cell_type": "code",
   "execution_count": 16,
   "id": "2bbae40d",
   "metadata": {},
   "outputs": [],
   "source": [
    "pred = linear.predict(x_test)"
   ]
  },
  {
   "cell_type": "code",
   "execution_count": 17,
   "id": "1c2745fc",
   "metadata": {},
   "outputs": [
    {
     "name": "stdout",
     "output_type": "stream",
     "text": [
      "15308.93414169646 [177.3  66.5  54.5] 14869.0\n",
      "7598.8613447478565 [169.   64.4  52.4] 8558.0\n",
      "13453.363213723904 [175.   66.   54.1] 12945.0\n",
      "6765.162284377409 [157.3  63.8  50.6] 6692.0\n",
      "22102.369240759494 [186.7  68.3  55.5] 17859.167\n",
      "7210.290516801091 [157.1  63.8  49.7] 6229.0\n",
      "11252.930908853916 [172.6  65.4  53.5] 10345.0\n",
      "7789.087465910998 [169.   64.4  52. ] 8499.0\n",
      "7020.415079696133 [167.5  64.2  52. ] 7999.0\n",
      "22116.24696891135 [189.   68.4  56. ] 18920.0\n",
      "34391.96301791977 [198.9  71.4  56.7] 35056.0\n",
      "2877.3213513630617 [144.6  62.5  48.8] 5389.0\n",
      "10372.98203389562 [172.4  65.2  53.5] 10245.0\n",
      "20487.98689919975 [184.6  67.9  55.5] 17199.0\n",
      "14566.896976836404 [176.6  66.3  54.3] 13499.0\n",
      "14221.079568293993 [175.4  66.2  54.3] 13495.0\n",
      "21046.281406206283 [180.3  67.9  55.1] 16900.0\n",
      "15351.732791213173 [176.8  66.5  54.5] 14489.0\n",
      "9100.055134274618 [170.2  64.8  52.8] 8921.0\n",
      "15266.135492179805 [177.8  66.5  54.5] 15250.0\n",
      "7063.632596045412 [150.   63.6  49.4] 5499.0\n",
      "10916.233347689238 [173.2  65.4  54.1] 11048.0\n",
      "34726.51680492822 [199.6  71.7  58.7] 36880.0\n",
      "15171.022431598249 [177.8  66.5  54.7] 16500.0\n"
     ]
    }
   ],
   "source": [
    "for x in range(len(pred)):\n",
    "    print(pred[x],x_test[x],y_test[x])"
   ]
  },
  {
   "cell_type": "code",
   "execution_count": 18,
   "id": "d3f0573a",
   "metadata": {},
   "outputs": [
    {
     "data": {
      "text/plain": [
       "array([[<AxesSubplot:xlabel='carlength', ylabel='carlength'>,\n",
       "        <AxesSubplot:xlabel='carwidth', ylabel='carlength'>,\n",
       "        <AxesSubplot:xlabel='carheight', ylabel='carlength'>,\n",
       "        <AxesSubplot:xlabel='price', ylabel='carlength'>,\n",
       "        <AxesSubplot:xlabel='Affordable', ylabel='carlength'>],\n",
       "       [<AxesSubplot:xlabel='carlength', ylabel='carwidth'>,\n",
       "        <AxesSubplot:xlabel='carwidth', ylabel='carwidth'>,\n",
       "        <AxesSubplot:xlabel='carheight', ylabel='carwidth'>,\n",
       "        <AxesSubplot:xlabel='price', ylabel='carwidth'>,\n",
       "        <AxesSubplot:xlabel='Affordable', ylabel='carwidth'>],\n",
       "       [<AxesSubplot:xlabel='carlength', ylabel='carheight'>,\n",
       "        <AxesSubplot:xlabel='carwidth', ylabel='carheight'>,\n",
       "        <AxesSubplot:xlabel='carheight', ylabel='carheight'>,\n",
       "        <AxesSubplot:xlabel='price', ylabel='carheight'>,\n",
       "        <AxesSubplot:xlabel='Affordable', ylabel='carheight'>],\n",
       "       [<AxesSubplot:xlabel='carlength', ylabel='price'>,\n",
       "        <AxesSubplot:xlabel='carwidth', ylabel='price'>,\n",
       "        <AxesSubplot:xlabel='carheight', ylabel='price'>,\n",
       "        <AxesSubplot:xlabel='price', ylabel='price'>,\n",
       "        <AxesSubplot:xlabel='Affordable', ylabel='price'>],\n",
       "       [<AxesSubplot:xlabel='carlength', ylabel='Affordable'>,\n",
       "        <AxesSubplot:xlabel='carwidth', ylabel='Affordable'>,\n",
       "        <AxesSubplot:xlabel='carheight', ylabel='Affordable'>,\n",
       "        <AxesSubplot:xlabel='price', ylabel='Affordable'>,\n",
       "        <AxesSubplot:xlabel='Affordable', ylabel='Affordable'>]],\n",
       "      dtype=object)"
      ]
     },
     "execution_count": 18,
     "metadata": {},
     "output_type": "execute_result"
    },
    {
     "data": {
      "image/png": "[encoded data removed]",
      "text/plain": [
       "<Figure size 432x288 with 25 Axes>"
      ]
     },
     "metadata": {
      "needs_background": "light"
     },
     "output_type": "display_data"
    }
   ],
   "source": [
    "pd.plotting.scatter_matrix(data)"
   ]
  },
  {
   "cell_type": "code",
   "execution_count": null,
   "id": "9a92766b",
   "metadata": {},
   "outputs": [],
   "source": []
  }
 ],
 "metadata": {
  "kernelspec": {
   "display_name": "Python 3",
   "language": "python",
   "name": "python3"
  },
  "language_info": {
   "codemirror_mode": {
    "name": "ipython",
    "version": 3
   },
   "file_extension": ".py",
   "mimetype": "text/x-python",
   "name": "python",
   "nbconvert_exporter": "python",
   "pygments_lexer": "ipython3",
   "version": "3.7.10"
  }
 },
 "nbformat": 4,
 "nbformat_minor": 5
}
